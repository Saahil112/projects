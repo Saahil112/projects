{
 "cells": [
  {
   "cell_type": "code",
   "execution_count": 1,
   "metadata": {
    "id": "2ySYwTVidWvg"
   },
   "outputs": [],
   "source": [
    "# Import relevant packages\n",
    "import numpy as np\n",
    "import pandas as pd\n",
    "import matplotlib.pyplot as plt\n",
    "from sklearn.preprocessing import StandardScaler\n",
    "\n",
    "# just to get rid of all those warning messages\n",
    "import warnings\n",
    "warnings.filterwarnings('ignore')"
   ]
  },
  {
   "cell_type": "code",
   "execution_count": 2,
   "metadata": {
    "colab": {
     "base_uri": "https://localhost:8080/"
    },
    "id": "Ep6NeM6hdf4m",
    "outputId": "8e0d63d3-69c7-4b0a-e530-fe7f9c8c0967"
   },
   "outputs": [
    {
     "name": "stdout",
     "output_type": "stream",
     "text": [
      "Mounted at /content/drive\n"
     ]
    }
   ],
   "source": [
    "# Load the dataset \n",
    "from google.colab import drive\n",
    "drive.mount('/content/drive')"
   ]
  },
  {
   "cell_type": "markdown",
   "metadata": {
    "id": "M0h_D06ZnLsw"
   },
   "source": [
    "## Goal\n",
    "\n",
    "The goal of this exploration is to create an optimal classifier that predicts if inputed Instagram accounts are fake or real. This classifier is built using Logistic Regression Models. I will make use of both a baseline Linear Regression Model and a hyperparameter tuned linear regression model to classify unseen accounts as real or fake."
   ]
  },
  {
   "cell_type": "markdown",
   "metadata": {
    "id": "YgT7auqmdm01"
   },
   "source": [
    "# Data Exploration"
   ]
  },
  {
   "cell_type": "markdown",
   "metadata": {
    "id": "_gTm2QCvxvvJ"
   },
   "source": [
    "Link to Dataset: https://www.kaggle.com/free4ever1/instagram-fake-spammer-genuine-accounts?select=test.csv"
   ]
  },
  {
   "cell_type": "code",
   "execution_count": 3,
   "metadata": {
    "colab": {
     "base_uri": "https://localhost:8080/",
     "height": 206
    },
    "id": "snp6EiZidhZd",
    "outputId": "14d8e316-27b7-483c-b552-ab89d849a8da"
   },
   "outputs": [
    {
     "data": {
      "text/html": [
       "<div>\n",
       "<style scoped>\n",
       "    .dataframe tbody tr th:only-of-type {\n",
       "        vertical-align: middle;\n",
       "    }\n",
       "\n",
       "    .dataframe tbody tr th {\n",
       "        vertical-align: top;\n",
       "    }\n",
       "\n",
       "    .dataframe thead th {\n",
       "        text-align: right;\n",
       "    }\n",
       "</style>\n",
       "<table border=\"1\" class=\"dataframe\">\n",
       "  <thead>\n",
       "    <tr style=\"text-align: right;\">\n",
       "      <th></th>\n",
       "      <th>profile pic</th>\n",
       "      <th>nums/length username</th>\n",
       "      <th>fullname words</th>\n",
       "      <th>nums/length fullname</th>\n",
       "      <th>name==username</th>\n",
       "      <th>description length</th>\n",
       "      <th>external URL</th>\n",
       "      <th>private</th>\n",
       "      <th>#posts</th>\n",
       "      <th>#followers</th>\n",
       "      <th>#follows</th>\n",
       "      <th>fake</th>\n",
       "    </tr>\n",
       "  </thead>\n",
       "  <tbody>\n",
       "    <tr>\n",
       "      <th>0</th>\n",
       "      <td>1</td>\n",
       "      <td>0.27</td>\n",
       "      <td>0</td>\n",
       "      <td>0.0</td>\n",
       "      <td>0</td>\n",
       "      <td>53</td>\n",
       "      <td>0</td>\n",
       "      <td>0</td>\n",
       "      <td>32</td>\n",
       "      <td>1000</td>\n",
       "      <td>955</td>\n",
       "      <td>0</td>\n",
       "    </tr>\n",
       "    <tr>\n",
       "      <th>1</th>\n",
       "      <td>1</td>\n",
       "      <td>0.00</td>\n",
       "      <td>2</td>\n",
       "      <td>0.0</td>\n",
       "      <td>0</td>\n",
       "      <td>44</td>\n",
       "      <td>0</td>\n",
       "      <td>0</td>\n",
       "      <td>286</td>\n",
       "      <td>2740</td>\n",
       "      <td>533</td>\n",
       "      <td>0</td>\n",
       "    </tr>\n",
       "    <tr>\n",
       "      <th>2</th>\n",
       "      <td>1</td>\n",
       "      <td>0.10</td>\n",
       "      <td>2</td>\n",
       "      <td>0.0</td>\n",
       "      <td>0</td>\n",
       "      <td>0</td>\n",
       "      <td>0</td>\n",
       "      <td>1</td>\n",
       "      <td>13</td>\n",
       "      <td>159</td>\n",
       "      <td>98</td>\n",
       "      <td>0</td>\n",
       "    </tr>\n",
       "    <tr>\n",
       "      <th>3</th>\n",
       "      <td>1</td>\n",
       "      <td>0.00</td>\n",
       "      <td>1</td>\n",
       "      <td>0.0</td>\n",
       "      <td>0</td>\n",
       "      <td>82</td>\n",
       "      <td>0</td>\n",
       "      <td>0</td>\n",
       "      <td>679</td>\n",
       "      <td>414</td>\n",
       "      <td>651</td>\n",
       "      <td>0</td>\n",
       "    </tr>\n",
       "    <tr>\n",
       "      <th>4</th>\n",
       "      <td>1</td>\n",
       "      <td>0.00</td>\n",
       "      <td>2</td>\n",
       "      <td>0.0</td>\n",
       "      <td>0</td>\n",
       "      <td>0</td>\n",
       "      <td>0</td>\n",
       "      <td>1</td>\n",
       "      <td>6</td>\n",
       "      <td>151</td>\n",
       "      <td>126</td>\n",
       "      <td>0</td>\n",
       "    </tr>\n",
       "  </tbody>\n",
       "</table>\n",
       "</div>"
      ],
      "text/plain": [
       "   profile pic  nums/length username  ...  #follows  fake\n",
       "0            1                  0.27  ...       955     0\n",
       "1            1                  0.00  ...       533     0\n",
       "2            1                  0.10  ...        98     0\n",
       "3            1                  0.00  ...       651     0\n",
       "4            1                  0.00  ...       126     0\n",
       "\n",
       "[5 rows x 12 columns]"
      ]
     },
     "execution_count": 3,
     "metadata": {},
     "output_type": "execute_result"
    }
   ],
   "source": [
    "train_df = pd.read_csv('/content/drive/MyDrive/Colab Notebooks/ig_train.csv')\n",
    "train_df.head()"
   ]
  },
  {
   "cell_type": "code",
   "execution_count": 4,
   "metadata": {
    "colab": {
     "base_uri": "https://localhost:8080/"
    },
    "id": "PeolIAiEdrez",
    "outputId": "4aaa5703-0809-4573-c430-935ca392858d"
   },
   "outputs": [
    {
     "data": {
      "text/plain": [
       "Index(['profile pic', 'nums/length username', 'fullname words',\n",
       "       'nums/length fullname', 'name==username', 'description length',\n",
       "       'external URL', 'private', '#posts', '#followers', '#follows', 'fake'],\n",
       "      dtype='object')"
      ]
     },
     "execution_count": 4,
     "metadata": {},
     "output_type": "execute_result"
    }
   ],
   "source": [
    "train_df.columns"
   ]
  },
  {
   "cell_type": "code",
   "execution_count": 4,
   "metadata": {
    "colab": {
     "base_uri": "https://localhost:8080/",
     "height": 206
    },
    "id": "K8h17n3-d650",
    "outputId": "d542bc47-cd4f-4092-80c4-b7df29b7850e"
   },
   "outputs": [
    {
     "data": {
      "text/html": [
       "<div>\n",
       "<style scoped>\n",
       "    .dataframe tbody tr th:only-of-type {\n",
       "        vertical-align: middle;\n",
       "    }\n",
       "\n",
       "    .dataframe tbody tr th {\n",
       "        vertical-align: top;\n",
       "    }\n",
       "\n",
       "    .dataframe thead th {\n",
       "        text-align: right;\n",
       "    }\n",
       "</style>\n",
       "<table border=\"1\" class=\"dataframe\">\n",
       "  <thead>\n",
       "    <tr style=\"text-align: right;\">\n",
       "      <th></th>\n",
       "      <th>profile_pic</th>\n",
       "      <th>acc_name_ratio</th>\n",
       "      <th>fullname_words</th>\n",
       "      <th>fullname_ratio</th>\n",
       "      <th>name_match</th>\n",
       "      <th>bio_len</th>\n",
       "      <th>URL_flag</th>\n",
       "      <th>private_flag</th>\n",
       "      <th>post_nums</th>\n",
       "      <th>follower_nums</th>\n",
       "      <th>follow_nums</th>\n",
       "      <th>fake_flag</th>\n",
       "    </tr>\n",
       "  </thead>\n",
       "  <tbody>\n",
       "    <tr>\n",
       "      <th>0</th>\n",
       "      <td>1</td>\n",
       "      <td>0.27</td>\n",
       "      <td>0</td>\n",
       "      <td>0.0</td>\n",
       "      <td>0</td>\n",
       "      <td>53</td>\n",
       "      <td>0</td>\n",
       "      <td>0</td>\n",
       "      <td>32</td>\n",
       "      <td>1000</td>\n",
       "      <td>955</td>\n",
       "      <td>0</td>\n",
       "    </tr>\n",
       "    <tr>\n",
       "      <th>1</th>\n",
       "      <td>1</td>\n",
       "      <td>0.00</td>\n",
       "      <td>2</td>\n",
       "      <td>0.0</td>\n",
       "      <td>0</td>\n",
       "      <td>44</td>\n",
       "      <td>0</td>\n",
       "      <td>0</td>\n",
       "      <td>286</td>\n",
       "      <td>2740</td>\n",
       "      <td>533</td>\n",
       "      <td>0</td>\n",
       "    </tr>\n",
       "    <tr>\n",
       "      <th>2</th>\n",
       "      <td>1</td>\n",
       "      <td>0.10</td>\n",
       "      <td>2</td>\n",
       "      <td>0.0</td>\n",
       "      <td>0</td>\n",
       "      <td>0</td>\n",
       "      <td>0</td>\n",
       "      <td>1</td>\n",
       "      <td>13</td>\n",
       "      <td>159</td>\n",
       "      <td>98</td>\n",
       "      <td>0</td>\n",
       "    </tr>\n",
       "    <tr>\n",
       "      <th>3</th>\n",
       "      <td>1</td>\n",
       "      <td>0.00</td>\n",
       "      <td>1</td>\n",
       "      <td>0.0</td>\n",
       "      <td>0</td>\n",
       "      <td>82</td>\n",
       "      <td>0</td>\n",
       "      <td>0</td>\n",
       "      <td>679</td>\n",
       "      <td>414</td>\n",
       "      <td>651</td>\n",
       "      <td>0</td>\n",
       "    </tr>\n",
       "    <tr>\n",
       "      <th>4</th>\n",
       "      <td>1</td>\n",
       "      <td>0.00</td>\n",
       "      <td>2</td>\n",
       "      <td>0.0</td>\n",
       "      <td>0</td>\n",
       "      <td>0</td>\n",
       "      <td>0</td>\n",
       "      <td>1</td>\n",
       "      <td>6</td>\n",
       "      <td>151</td>\n",
       "      <td>126</td>\n",
       "      <td>0</td>\n",
       "    </tr>\n",
       "  </tbody>\n",
       "</table>\n",
       "</div>"
      ],
      "text/plain": [
       "   profile_pic  acc_name_ratio  ...  follow_nums  fake_flag\n",
       "0            1            0.27  ...          955          0\n",
       "1            1            0.00  ...          533          0\n",
       "2            1            0.10  ...           98          0\n",
       "3            1            0.00  ...          651          0\n",
       "4            1            0.00  ...          126          0\n",
       "\n",
       "[5 rows x 12 columns]"
      ]
     },
     "execution_count": 4,
     "metadata": {},
     "output_type": "execute_result"
    }
   ],
   "source": [
    "# rename columns to omit whitespace\n",
    "new_cols = {'profile pic': 'profile_pic', 'nums/length username': 'acc_name_ratio', 'fullname words': 'fullname_words',\n",
    "       'nums/length fullname': 'fullname_ratio', 'name==username':'name_match', 'description length':'bio_len',\n",
    "       'external URL':'URL_flag', 'private':'private_flag', '#posts':'post_nums', '#followers':'follower_nums', '#follows':'follow_nums', 'fake':'fake_flag'}\n",
    "\n",
    "train_df.rename(columns=new_cols, inplace=True)\n",
    "train_df.head()"
   ]
  },
  {
   "cell_type": "code",
   "execution_count": 6,
   "metadata": {
    "colab": {
     "base_uri": "https://localhost:8080/"
    },
    "id": "P8yEhgDEfQU6",
    "outputId": "9318aad4-d1a6-4a3e-eaea-c02d8b7a9fe7"
   },
   "outputs": [
    {
     "data": {
      "text/plain": [
       "(576, 12)"
      ]
     },
     "execution_count": 6,
     "metadata": {},
     "output_type": "execute_result"
    }
   ],
   "source": [
    "# To understand the scale of our dataset\n",
    "train_df.shape"
   ]
  },
  {
   "cell_type": "code",
   "execution_count": null,
   "metadata": {
    "colab": {
     "base_uri": "https://localhost:8080/"
    },
    "id": "r_f19lYtfgpK",
    "outputId": "5132713e-0064-43be-d47e-464f2ecc26e8"
   },
   "outputs": [
    {
     "data": {
      "text/plain": [
       "profile_pic       0\n",
       "acc_name_ratio    0\n",
       "fullname_words    0\n",
       "fullname_ratio    0\n",
       "name_match        0\n",
       "bio_len           0\n",
       "URL_flag          0\n",
       "private_flag      0\n",
       "post_nums         0\n",
       "follower_nums     0\n",
       "follow:nums       0\n",
       "fake_flag         0\n",
       "dtype: int64"
      ]
     },
     "execution_count": 9,
     "metadata": {},
     "output_type": "execute_result"
    }
   ],
   "source": [
    "train_df.isna().sum()"
   ]
  },
  {
   "cell_type": "markdown",
   "metadata": {
    "id": "rXJOiAC_gO7P"
   },
   "source": [
    "We have no null values in this dataset. Cleaning will be a lot simpler."
   ]
  },
  {
   "cell_type": "code",
   "execution_count": 63,
   "metadata": {
    "colab": {
     "base_uri": "https://localhost:8080/"
    },
    "id": "qEEXE_tHSgyy",
    "outputId": "8461919f-63a0-4e12-d4f7-804497d62125"
   },
   "outputs": [
    {
     "data": {
      "text/plain": [
       "1    288\n",
       "0    288\n",
       "Name: fake_flag, dtype: int64"
      ]
     },
     "execution_count": 63,
     "metadata": {},
     "output_type": "execute_result"
    }
   ],
   "source": [
    "train_df.fake_flag.value_counts()"
   ]
  },
  {
   "cell_type": "markdown",
   "metadata": {
    "id": "CUzNjPBJSvnx"
   },
   "source": [
    "The number of observations in each classifcation match too."
   ]
  },
  {
   "cell_type": "markdown",
   "metadata": {
    "id": "Zd8dwWFqIsWn"
   },
   "source": [
    "### Exploration of Binary Features"
   ]
  },
  {
   "cell_type": "code",
   "execution_count": 7,
   "metadata": {
    "colab": {
     "base_uri": "https://localhost:8080/"
    },
    "id": "fEGVEr44hBtf",
    "outputId": "f8024a2a-e01f-4df4-b739-441dcfa11315"
   },
   "outputs": [
    {
     "data": {
      "text/plain": [
       "['profile_pic', 'name_match', 'URL_flag', 'private_flag', 'fake_flag']"
      ]
     },
     "execution_count": 7,
     "metadata": {},
     "output_type": "execute_result"
    }
   ],
   "source": [
    "# find columns that are binary\n",
    "binary_features = [feature for feature in train_df.columns if len(train_df[feature].unique()) == 2]\n",
    "binary_features"
   ]
  },
  {
   "cell_type": "code",
   "execution_count": 8,
   "metadata": {
    "id": "MhEVaSXEoiqB"
   },
   "outputs": [],
   "source": [
    "# Drop fake flag as binary feature feature\n",
    "binary_features = binary_features[:-1]"
   ]
  },
  {
   "cell_type": "code",
   "execution_count": null,
   "metadata": {
    "colab": {
     "base_uri": "https://localhost:8080/",
     "height": 141
    },
    "id": "D9SgZb8lf_yw",
    "outputId": "75867acf-1e2b-463d-cebf-2eb7e53ac6ef"
   },
   "outputs": [
    {
     "data": {
      "text/html": [
       "<div>\n",
       "<style scoped>\n",
       "    .dataframe tbody tr th:only-of-type {\n",
       "        vertical-align: middle;\n",
       "    }\n",
       "\n",
       "    .dataframe tbody tr th {\n",
       "        vertical-align: top;\n",
       "    }\n",
       "\n",
       "    .dataframe thead th {\n",
       "        text-align: right;\n",
       "    }\n",
       "</style>\n",
       "<table border=\"1\" class=\"dataframe\">\n",
       "  <thead>\n",
       "    <tr style=\"text-align: right;\">\n",
       "      <th></th>\n",
       "      <th>profile_pic</th>\n",
       "      <th>name_match</th>\n",
       "      <th>URL_flag</th>\n",
       "      <th>private_flag</th>\n",
       "    </tr>\n",
       "    <tr>\n",
       "      <th>fake_flag</th>\n",
       "      <th></th>\n",
       "      <th></th>\n",
       "      <th></th>\n",
       "      <th></th>\n",
       "    </tr>\n",
       "  </thead>\n",
       "  <tbody>\n",
       "    <tr>\n",
       "      <th>0</th>\n",
       "      <td>0.993056</td>\n",
       "      <td>0.003472</td>\n",
       "      <td>0.232639</td>\n",
       "      <td>0.395833</td>\n",
       "    </tr>\n",
       "    <tr>\n",
       "      <th>1</th>\n",
       "      <td>0.409722</td>\n",
       "      <td>0.065972</td>\n",
       "      <td>0.000000</td>\n",
       "      <td>0.368056</td>\n",
       "    </tr>\n",
       "  </tbody>\n",
       "</table>\n",
       "</div>"
      ],
      "text/plain": [
       "           profile_pic  name_match  URL_flag  private_flag\n",
       "fake_flag                                                 \n",
       "0             0.993056    0.003472  0.232639      0.395833\n",
       "1             0.409722    0.065972  0.000000      0.368056"
      ]
     },
     "execution_count": 12,
     "metadata": {},
     "output_type": "execute_result"
    }
   ],
   "source": [
    "# sum of binary variables/number of obervations in class for real and fake accounts\n",
    "bin_dist = train_df.groupby(by=train_df.fake_flag)[binary_features].sum()/train_df.groupby(by=train_df.fake_flag)[binary_features].count()\n",
    "bin_dist"
   ]
  },
  {
   "cell_type": "code",
   "execution_count": null,
   "metadata": {
    "colab": {
     "base_uri": "https://localhost:8080/",
     "height": 325
    },
    "id": "TH5cpijSjd64",
    "outputId": "d5ba34d4-4222-4f47-8b6d-f01c080951d4"
   },
   "outputs": [
    {
     "data": {
      "image/png": "[encoded data removed]",
      "text/plain": [
       "<Figure size 432x288 with 1 Axes>"
      ]
     },
     "metadata": {
      "needs_background": "light"
     },
     "output_type": "display_data"
    }
   ],
   "source": [
    "# visualization of ratio of binary features\n",
    "ax = bin_dist.iloc[0].plot(kind='bar', color='blue', width=.75, legend=True, alpha=0.5)\n",
    "bin_dist.iloc[1].plot(kind='bar', color='orange', width=.5, alpha=0.7, legend=True)\n",
    "\n",
    "plt.ylabel(\"Presence of Feature\")\n",
    "plt.grid(which='major', alpha=0.7)\n",
    "plt.minorticks_on()\n",
    "plt.legend([\"Real\", \"Fake\"], loc='upper right')\n",
    "plt.xticks(rotation=45)\n",
    "\n",
    "plt.title(\"Distribution of Binary Features Across Fake and Real Profiles\")\n",
    "plt.show()"
   ]
  },
  {
   "cell_type": "markdown",
   "metadata": {
    "id": "ij9P0XkXikd5"
   },
   "source": [
    "Surprisingly, it looks like the presence of a URL is indicative of a real account"
   ]
  },
  {
   "cell_type": "markdown",
   "metadata": {
    "id": "k1EKywuRIwVp"
   },
   "source": [
    "### Exploration of Other Features"
   ]
  },
  {
   "cell_type": "code",
   "execution_count": null,
   "metadata": {
    "colab": {
     "base_uri": "https://localhost:8080/",
     "height": 295
    },
    "id": "U2UP6sD-je1t",
    "outputId": "7ce8828c-0d5d-400c-cf8a-e39231d47a06"
   },
   "outputs": [
    {
     "data": {
      "image/png": "[encoded data removed]",
      "text/plain": [
       "<Figure size 432x288 with 1 Axes>"
      ]
     },
     "metadata": {
      "needs_background": "light"
     },
     "output_type": "display_data"
    }
   ],
   "source": [
    "# Look at description length across real and fake profiles\n",
    "desc_dist_real = train_df.loc[train_df.fake_flag == 0].bio_len.copy()\n",
    "desc_dist_fake = train_df.loc[train_df.fake_flag == 1].bio_len.copy()\n",
    "\n",
    "ax = desc_dist_real.plot(kind='hist', color='blue', legend=True, alpha=0.5)\n",
    "desc_dist_fake.plot(kind='hist', color='orange', alpha=0.7, legend=True)\n",
    "\n",
    "plt.ylabel(\"Frequency\")\n",
    "plt.xlabel(\"Bio Length (characters)\")\n",
    "plt.grid(which='major', alpha=0.7)\n",
    "plt.minorticks_on()\n",
    "plt.legend([\"Real\", \"Fake\"], loc='upper right')\n",
    "\n",
    "plt.title(\"Distribution of Bio Length Across Fake and Real Profiles\")\n",
    "plt.show()"
   ]
  },
  {
   "cell_type": "code",
   "execution_count": null,
   "metadata": {
    "colab": {
     "base_uri": "https://localhost:8080/"
    },
    "id": "FzIO-dUKd8A9",
    "outputId": "f4238857-779c-47e5-b94a-56a4afed60e9"
   },
   "outputs": [
    {
     "name": "stdout",
     "output_type": "stream",
     "text": [
      "Range for real account followers: 15,338,529\n",
      "Range for fake account followers: 3,033\n"
     ]
    }
   ],
   "source": [
    "# Look at followers distribution across real and fake profiles\n",
    "follower_dist_real = train_df.loc[train_df.fake_flag == 0].follower_nums.copy()\n",
    "follower_dist_fake = train_df.loc[train_df.fake_flag == 1].follower_nums.copy()\n",
    "\n",
    "# Assessing the range for the two account types\n",
    "print(\"Range for real account followers: {:,}\".format(follower_dist_real.max() - follower_dist_real.min()))\n",
    "print(\"Range for fake account followers: {:,}\".format(follower_dist_fake.max() - follower_dist_fake.min()))"
   ]
  },
  {
   "cell_type": "code",
   "execution_count": null,
   "metadata": {
    "colab": {
     "base_uri": "https://localhost:8080/",
     "height": 331
    },
    "id": "31OAknAW9hE7",
    "outputId": "a2dca5c3-e0db-44f6-bf60-c84eb59cdcca"
   },
   "outputs": [
    {
     "data": {
      "image/png": "[encoded data removed]",
      "text/plain": [
       "<Figure size 432x288 with 1 Axes>"
      ]
     },
     "metadata": {
      "needs_background": "light"
     },
     "output_type": "display_data"
    },
    {
     "name": "stdout",
     "output_type": "stream",
     "text": [
      "Mean Followers of Real Accounts: 170,504\n",
      "Mean Followers of Fake Accounts: 111\n"
     ]
    }
   ],
   "source": [
    "# As the difference in  range for these  columns is large, we standardize the data\n",
    "follower_dist_real_scaled =(follower_dist_real - follower_dist_real.mean())/(follower_dist_real.std())\n",
    "follower_dist_fake_scaled = (follower_dist_fake - follower_dist_fake.mean())/(follower_dist_fake.std())\n",
    "\n",
    "ax = follower_dist_real_scaled.plot(kind='hist', color='blue', legend=True, alpha=0.5)\n",
    "follower_dist_fake_scaled.plot(kind='hist', color='orange', alpha=0.7, legend=True)\n",
    "\n",
    "plt.ylabel(\"Frequency\")\n",
    "plt.xlabel(\"Number of Followers (In Standard Deviations from Their Respective Means)\")\n",
    "plt.grid(which='major', alpha=0.7)\n",
    "plt.minorticks_on()\n",
    "plt.legend([\"Real\", \"Fake\"], loc='upper right')\n",
    "\n",
    "plt.title(\"Distribution of Followers Across Fake and Real Profiles\")\n",
    "plt.show()\n",
    "print(\"Mean Followers of Real Accounts: {:,.0F}\".format(follower_dist_real.mean()))\n",
    "print(\"Mean Followers of Fake Accounts: {:.0F}\".format(follower_dist_fake.mean()))"
   ]
  },
  {
   "cell_type": "markdown",
   "metadata": {
    "id": "3NXdFVZMGoI5"
   },
   "source": [
    "Mean followers for real accounts seems high. We must consider the data collection process of this dataset as it appears that the dataset may not be represent the population well."
   ]
  },
  {
   "cell_type": "code",
   "execution_count": null,
   "metadata": {
    "colab": {
     "base_uri": "https://localhost:8080/"
    },
    "id": "UyM5NN2QgiwQ",
    "outputId": "5ac26e4a-9293-44ce-a2dd-422a5c982fcb"
   },
   "outputs": [
    {
     "name": "stdout",
     "output_type": "stream",
     "text": [
      "Range for real account follows: 7,500\n",
      "Range for fake account follows: 7,272\n"
     ]
    }
   ],
   "source": [
    "# Look at following distribution across real and fake profiles\n",
    "follow_dist_real = train_df.loc[train_df.fake_flag == 0].follow_nums.copy()\n",
    "follow_dist_fake = train_df.loc[train_df.fake_flag == 1].follow_nums.copy()\n",
    "\n",
    "# Assessing the range for the two account types\n",
    "print(\"Range for real account follows: {:,}\".format(follow_dist_real.max() - follow_dist_real.min()))\n",
    "print(\"Range for fake account follows: {:,}\".format(follow_dist_fake.max() - follow_dist_fake.min()))"
   ]
  },
  {
   "cell_type": "code",
   "execution_count": null,
   "metadata": {
    "colab": {
     "base_uri": "https://localhost:8080/",
     "height": 331
    },
    "id": "_Pzm1qvgDBZh",
    "outputId": "e33be789-65fb-43e8-88cd-1ca3d44b046b"
   },
   "outputs": [
    {
     "data": {
      "image/png": "[encoded data removed]",
      "text/plain": [
       "<Figure size 432x288 with 1 Axes>"
      ]
     },
     "metadata": {
      "needs_background": "light"
     },
     "output_type": "display_data"
    },
    {
     "name": "stdout",
     "output_type": "stream",
     "text": [
      "Mean Follows of Real Accounts: 715\n",
      "Mean Follows of Fake Accounts: 302\n"
     ]
    }
   ],
   "source": [
    "# As the range for total follows is similar to each other, we don't need to scale\n",
    "\n",
    "ax = follow_dist_real.plot(kind='hist', color='blue', legend=True, alpha=0.5)\n",
    "follow_dist_fake.plot(kind='hist', color='orange', alpha=0.7, legend=True)\n",
    "\n",
    "plt.ylabel(\"Frequency\")\n",
    "plt.xlabel(\"Number of Follows\")\n",
    "plt.grid(which='major', alpha=0.7)\n",
    "plt.minorticks_on()\n",
    "plt.legend([\"Real\", \"Fake\"], loc='upper right')\n",
    "\n",
    "plt.title(\"Distribution of Follows Across Fake and Real Profiles\")\n",
    "plt.show()\n",
    "print(\"Mean Follows of Real Accounts: {:,.0F}\".format(follow_dist_real.mean()))\n",
    "print(\"Mean Follows of Fake Accounts: {:,.0F}\".format(follow_dist_fake.mean()))"
   ]
  },
  {
   "cell_type": "code",
   "execution_count": 9,
   "metadata": {
    "colab": {
     "base_uri": "https://localhost:8080/"
    },
    "id": "9zIBN3O8Dpqp",
    "outputId": "20dc66dc-c24d-4b2c-d635-5ac5df1c760c"
   },
   "outputs": [
    {
     "name": "stdout",
     "output_type": "stream",
     "text": [
      "Range for real account posts: 7,389\n",
      "Range for fake account posts: 299\n"
     ]
    }
   ],
   "source": [
    "# Look at following distribution across real and fake profiles\n",
    "post_dist_real = train_df.loc[train_df.fake_flag == 0].post_nums.copy()\n",
    "post_dist_fake = train_df.loc[train_df.fake_flag == 1].post_nums.copy()\n",
    "\n",
    "# Assessing the range for the two account types\n",
    "print(\"Range for real account posts: {:,}\".format(post_dist_real.max() - post_dist_real.min()))\n",
    "print(\"Range for fake account posts: {:,}\".format(post_dist_fake.max() - post_dist_fake.min()))"
   ]
  },
  {
   "cell_type": "code",
   "execution_count": 10,
   "metadata": {
    "colab": {
     "base_uri": "https://localhost:8080/",
     "height": 332
    },
    "id": "NGYU44B2Dwcy",
    "outputId": "c6ee38bf-c070-4954-c55c-0cc262483576"
   },
   "outputs": [
    {
     "data": {
      "image/png": "[encoded data removed]",
      "text/plain": [
       "<Figure size 432x288 with 1 Axes>"
      ]
     },
     "metadata": {
      "needs_background": "light"
     },
     "output_type": "display_data"
    },
    {
     "name": "stdout",
     "output_type": "stream",
     "text": [
      "Mean Posts of Real Accounts: 206\n",
      "Mean Posts of Fake Accounts: 9\n"
     ]
    }
   ],
   "source": [
    "# As the difference in  range for these  columns is large, we sarndardize the data\n",
    "post_dist_real_scaled =(post_dist_real - post_dist_real.mean())/(post_dist_real.std())\n",
    "post_dist_fake_scaled = (post_dist_fake - post_dist_fake.mean())/(post_dist_fake.std())\n",
    "\n",
    "ax = post_dist_real_scaled.plot(kind='hist', color='blue', legend=True, alpha=0.5)\n",
    "post_dist_fake_scaled.plot(kind='hist', color='orange', alpha=0.7, legend=True)\n",
    "\n",
    "plt.ylabel(\"Frequency\")\n",
    "plt.xlabel(\"Number of Posts (In Standard Deviations from Their Respective Means)\")\n",
    "plt.grid(which='major', alpha=0.7)\n",
    "plt.minorticks_on()\n",
    "plt.legend([\"Real\", \"Fake\"], loc='upper right')\n",
    "\n",
    "plt.title(\"Distribution of Posts Across Fake and Real Profiles\")\n",
    "plt.show()\n",
    "print(\"Mean Posts of Real Accounts: {:,.0F}\".format(post_dist_real.mean()))\n",
    "print(\"Mean Posts of Fake Accounts: {:,.0F}\".format(post_dist_fake.mean()))"
   ]
  },
  {
   "cell_type": "markdown",
   "metadata": {
    "id": "oJ258vK1G8lf"
   },
   "source": [
    "Similar to number of followers, the mean posts also seems high. "
   ]
  },
  {
   "cell_type": "markdown",
   "metadata": {
    "id": "xjs2XBAZx2sD"
   },
   "source": [
    "# Implemetation of Logistic Regression to Determine Profile Type"
   ]
  },
  {
   "cell_type": "code",
   "execution_count": 15,
   "metadata": {
    "id": "92GH2D4wqH9Y"
   },
   "outputs": [],
   "source": [
    "from sklearn.linear_model import LogisticRegression\n",
    "from sklearn.model_selection import train_test_split\n",
    "from sklearn.metrics import roc_auc_score, plot_confusion_matrix"
   ]
  },
  {
   "cell_type": "code",
   "execution_count": 6,
   "metadata": {
    "colab": {
     "base_uri": "https://localhost:8080/"
    },
    "id": "yzbXWcuWx75M",
    "outputId": "0e13ec5d-ae5d-4129-e41f-ecb9c987ae35"
   },
   "outputs": [
    {
     "data": {
      "text/plain": [
       "0      0\n",
       "1      0\n",
       "2      0\n",
       "3      0\n",
       "4      0\n",
       "      ..\n",
       "571    1\n",
       "572    1\n",
       "573    1\n",
       "574    1\n",
       "575    1\n",
       "Name: fake_flag, Length: 576, dtype: int64"
      ]
     },
     "execution_count": 6,
     "metadata": {},
     "output_type": "execute_result"
    }
   ],
   "source": [
    "# As all datapoints are numeric, no data encoding is required\n",
    "\n",
    "# Split output and training data\n",
    "train_outputs = train_df.fake_flag\n",
    "train_df.pop('fake_flag')"
   ]
  },
  {
   "cell_type": "code",
   "execution_count": 7,
   "metadata": {
    "id": "fdNGECX6ss6Z"
   },
   "outputs": [],
   "source": [
    "def evaluate(model, X, y_true):\n",
    "    '''\n",
    "    Calculates the accuracy for a trained logistic regression model\n",
    "    \n",
    "    Parameters:\n",
    "    model: Trained Linear Regression Model\n",
    "    X, pandas.DataFrame -- test/validation input\n",
    "    y_true, pandas.dataFrame, numpy.nparray -- real output for X\n",
    "    \n",
    "    Returns:\n",
    "    accuracy, float -- accuracy of the model on passed data\n",
    "    auc, float -- Area under the ROC (score for model performance)\n",
    "    '''\n",
    "    \n",
    "    # Calculate predicted values\n",
    "    y_pred = model.predict(X)\n",
    "\n",
    "    correct = 0\n",
    "\n",
    "    # if predicted val matches real val, increase correct\n",
    "    for i, pred in enumerate(y_pred):\n",
    "      if pred == y_true.iloc[i]:\n",
    "        correct += 1\n",
    "\n",
    "    # Calculate accuracy\n",
    "    accuracy = (correct / y_true.shape[0]) * 100\n",
    "\n",
    "    # Calculate AUC\n",
    "    auc = roc_auc_score(y_true, y_pred)\n",
    "    \n",
    "    return accuracy, auc"
   ]
  },
  {
   "cell_type": "markdown",
   "metadata": {
    "id": "qSHYsHhnS5Qt"
   },
   "source": [
    "Note: In this situation, the accuracy and the AUC are roughly the same. This is because the number of observation in each class for the training set is the same."
   ]
  },
  {
   "cell_type": "markdown",
   "metadata": {
    "id": "Kvxk6iCYzPOt"
   },
   "source": [
    "### Implementation of a Baseline Logistic Regression Classifier"
   ]
  },
  {
   "cell_type": "code",
   "execution_count": 8,
   "metadata": {
    "colab": {
     "base_uri": "https://localhost:8080/"
    },
    "id": "C13b7Gr344Yz",
    "outputId": "d6976a69-4447-4065-cb1b-3f6af919ba35"
   },
   "outputs": [
    {
     "data": {
      "text/plain": [
       "0      0\n",
       "1      0\n",
       "2      0\n",
       "3      0\n",
       "4      0\n",
       "      ..\n",
       "115    1\n",
       "116    1\n",
       "117    1\n",
       "118    1\n",
       "119    1\n",
       "Name: fake_flag, Length: 120, dtype: int64"
      ]
     },
     "execution_count": 8,
     "metadata": {},
     "output_type": "execute_result"
    }
   ],
   "source": [
    "# Initialise test data\n",
    "test_df = pd.read_csv('/content/drive/MyDrive/Colab Notebooks/ig_test.csv')\n",
    "test_df.rename(columns=new_cols, inplace=True)\n",
    "\n",
    "test_outputs = test_df.fake_flag\n",
    "test_df.pop('fake_flag')"
   ]
  },
  {
   "cell_type": "code",
   "execution_count": 9,
   "metadata": {
    "colab": {
     "base_uri": "https://localhost:8080/"
    },
    "id": "REk87H2tzO0O",
    "outputId": "071be08b-cf14-4707-b1ee-a1f876d623b5"
   },
   "outputs": [
    {
     "name": "stdout",
     "output_type": "stream",
     "text": [
      "Model AUC: 0.908333\n"
     ]
    }
   ],
   "source": [
    "# Initialize and Fit Model\n",
    "model = LogisticRegression()\n",
    "model.fit(train_df, train_outputs)\n",
    "\n",
    "# Obtain Evaluation Metrics\n",
    "acc, auc = evaluate(model, test_df, test_outputs)\n",
    "\n",
    "print('Model AUC: {:2f}'.format(auc))"
   ]
  },
  {
   "cell_type": "code",
   "execution_count": 48,
   "metadata": {
    "colab": {
     "base_uri": "https://localhost:8080/",
     "height": 313
    },
    "id": "XYX6FQjJBBA4",
    "outputId": "f59d5c0b-3819-4903-d2bf-6b9392c101bb"
   },
   "outputs": [
    {
     "data": {
      "text/plain": [
       "Text(0.5, 1.0, 'Predicting Fake Instagram Accounts')"
      ]
     },
     "execution_count": 48,
     "metadata": {},
     "output_type": "execute_result"
    },
    {
     "data": {
      "image/png": "[encoded data removed]",
      "text/plain": [
       "<Figure size 432x288 with 2 Axes>"
      ]
     },
     "metadata": {
      "needs_background": "light"
     },
     "output_type": "display_data"
    }
   ],
   "source": [
    "y_pred = model.predict(test_df)\n",
    "\n",
    "# Plotting confusion matrix for model outputs\n",
    "labels = [\"real\", \"fake\"]\n",
    "plot_confusion_matrix(model, test_df, test_outputs, display_labels=labels, cmap='BuPu')\n",
    "plt.title(\"Predicting Fake Instagram Accounts\")"
   ]
  },
  {
   "cell_type": "markdown",
   "metadata": {
    "id": "JzWIlM9kJXhk"
   },
   "source": [
    "#### Feature Importance for Baseline Model"
   ]
  },
  {
   "cell_type": "code",
   "execution_count": 55,
   "metadata": {
    "colab": {
     "base_uri": "https://localhost:8080/",
     "height": 394
    },
    "id": "k4qe4I9_JLpn",
    "outputId": "1138beb9-d2e3-495e-ea4f-0b5727c2599f"
   },
   "outputs": [
    {
     "data": {
      "text/html": [
       "<div>\n",
       "<style scoped>\n",
       "    .dataframe tbody tr th:only-of-type {\n",
       "        vertical-align: middle;\n",
       "    }\n",
       "\n",
       "    .dataframe tbody tr th {\n",
       "        vertical-align: top;\n",
       "    }\n",
       "\n",
       "    .dataframe thead th {\n",
       "        text-align: right;\n",
       "    }\n",
       "</style>\n",
       "<table border=\"1\" class=\"dataframe\">\n",
       "  <thead>\n",
       "    <tr style=\"text-align: right;\">\n",
       "      <th></th>\n",
       "      <th>Feature</th>\n",
       "      <th>Weight</th>\n",
       "    </tr>\n",
       "  </thead>\n",
       "  <tbody>\n",
       "    <tr>\n",
       "      <th>0</th>\n",
       "      <td>acc_name_ratio</td>\n",
       "      <td>3.34628</td>\n",
       "    </tr>\n",
       "    <tr>\n",
       "      <th>1</th>\n",
       "      <td>profile_pic</td>\n",
       "      <td>-2.95199</td>\n",
       "    </tr>\n",
       "    <tr>\n",
       "      <th>2</th>\n",
       "      <td>private_flag</td>\n",
       "      <td>-0.976308</td>\n",
       "    </tr>\n",
       "    <tr>\n",
       "      <th>3</th>\n",
       "      <td>fullname_ratio</td>\n",
       "      <td>0.806112</td>\n",
       "    </tr>\n",
       "    <tr>\n",
       "      <th>4</th>\n",
       "      <td>name_match</td>\n",
       "      <td>0.75261</td>\n",
       "    </tr>\n",
       "    <tr>\n",
       "      <th>5</th>\n",
       "      <td>URL_flag</td>\n",
       "      <td>-0.746025</td>\n",
       "    </tr>\n",
       "    <tr>\n",
       "      <th>6</th>\n",
       "      <td>fullname_words</td>\n",
       "      <td>-0.478901</td>\n",
       "    </tr>\n",
       "    <tr>\n",
       "      <th>7</th>\n",
       "      <td>post_nums</td>\n",
       "      <td>-0.0140987</td>\n",
       "    </tr>\n",
       "    <tr>\n",
       "      <th>8</th>\n",
       "      <td>bio_len</td>\n",
       "      <td>-0.0120212</td>\n",
       "    </tr>\n",
       "    <tr>\n",
       "      <th>9</th>\n",
       "      <td>follower_nums</td>\n",
       "      <td>-0.0026903</td>\n",
       "    </tr>\n",
       "    <tr>\n",
       "      <th>10</th>\n",
       "      <td>follow_nums</td>\n",
       "      <td>0.000789614</td>\n",
       "    </tr>\n",
       "  </tbody>\n",
       "</table>\n",
       "</div>"
      ],
      "text/plain": [
       "           Feature       Weight\n",
       "0   acc_name_ratio      3.34628\n",
       "1      profile_pic     -2.95199\n",
       "2     private_flag    -0.976308\n",
       "3   fullname_ratio     0.806112\n",
       "4       name_match      0.75261\n",
       "5         URL_flag    -0.746025\n",
       "6   fullname_words    -0.478901\n",
       "7        post_nums   -0.0140987\n",
       "8          bio_len   -0.0120212\n",
       "9    follower_nums   -0.0026903\n",
       "10     follow_nums  0.000789614"
      ]
     },
     "metadata": {},
     "output_type": "display_data"
    }
   ],
   "source": [
    "# feature weights\n",
    "weights = model.coef_[0]\n",
    "\n",
    "# Dataframe storing feature name and it's assigned weight\n",
    "feat_importance = pd.DataFrame([train_df.columns, weights]).T\n",
    "# Rename Columns\n",
    "feat_importance.rename(columns={0:'Feature', 1:'Weight'}, inplace=True)\n",
    "# Sort from highest weight to lowest and display\n",
    "feat_importance = feat_importance.sort_values(by='Weight', ascending=False, key=abs)\n",
    "feat_importance.reset_index(drop=True, inplace=True)\n",
    "\n",
    "display(feat_importance)"
   ]
  },
  {
   "cell_type": "markdown",
   "metadata": {
    "id": "M1lZyyFPzUZI"
   },
   "source": [
    "### Logistic Regression Classifier After Tuning"
   ]
  },
  {
   "cell_type": "code",
   "execution_count": 49,
   "metadata": {
    "id": "EnyqcSTt3x-K"
   },
   "outputs": [],
   "source": [
    "# A Validation set is needed because we want to tune our LRM's hyperparameters depending on the AUC on the validation set\n",
    "x_train, x_valid, y_train, y_valid = train_test_split(train_df, train_outputs, test_size=0.2, random_state=0)"
   ]
  },
  {
   "cell_type": "code",
   "execution_count": 20,
   "metadata": {
    "id": "1CInUYv5zb1U"
   },
   "outputs": [],
   "source": [
    "# The model is tuned using penalty_types, and C_values"
   ]
  },
  {
   "cell_type": "code",
   "execution_count": 50,
   "metadata": {
    "id": "34HRtWdrx3Dm"
   },
   "outputs": [],
   "source": [
    "def tune_logistic_regression(X_train, y_train, X_valid, y_valid, penalty_types, C_values, verbose=True):\n",
    "    '''Tunes logistic regression models over the hyperparameters penalty type and C\n",
    "       to maximize the accuracy of the models\n",
    "       \n",
    "       Paarameters:\n",
    "       X_train: pandas.DataFrame -- Input for training data\n",
    "       y_train: pandas.DataFrame, numpy.nparray -- Output for training data\n",
    "       X_valid: pandas.DataFrame -- Input for validation data\n",
    "       y_valid: pandas.DataFrame, numpy.nparray -- Output for validation data\n",
    "       penalty_types, str -- norm tpye ('l1', 'l2')\n",
    "       C_values, numpy.nparray, list(int) -- Regularization Strength\n",
    "\n",
    "       Returns:\n",
    "       best_model: sklearn.LinearRegression -- Trained model with the best AUC\n",
    "       parameters: dict -- dictionary of the best parameters\n",
    "       val_aucs, numpy.nparray -- array holding the AUC of every model\n",
    "       '''\n",
    "\n",
    "    # Create empty lists where we will store the results of hyperparameter tuning \n",
    "    parameters = []\n",
    "    models = []\n",
    "    val_aucs = []\n",
    "    \n",
    "    # Loop through the hyperparameters of interest\n",
    "    for penalty in penalty_types:\n",
    "        for C in C_values:\n",
    "            \n",
    "            # Train the logistic regression model with the given hyperparameters\n",
    "            lr = LogisticRegression(C=C, penalty=penalty, solver='liblinear')\n",
    "    \n",
    "            # Fit the model using the training data\n",
    "            lr = lr.fit(X_train, y_train)\n",
    "            \n",
    "            # Get the evalution metrics on the validation set \n",
    "            acc, auc  = evaluate(lr, X_valid, y_valid)         \n",
    "            \n",
    "            # Store the results\n",
    "            parameters.append({'penalty': penalty, 'C': C})\n",
    "            models.append(lr)\n",
    "            val_aucs.append(auc)\n",
    "\n",
    "            print('--'*20, '\\nModel Parameters:\\nPenalty: {}, C: {} '.format(penalty, C))\n",
    "            print('Model AUC: {:2f}'.format(auc))\n",
    "            \n",
    "    \n",
    "    # Determine the best model -- that is, the one with the greatest AUC\n",
    "    best_model_index = np.argmax(val_aucs)\n",
    "    best_model = models[best_model_index]\n",
    "    \n",
    "    print('- - '*10,\"\\nBest model parameters: \", parameters[best_model_index])\n",
    "    print(\"Best model AUC: \", val_aucs[best_model_index])\n",
    "    \n",
    "    # Return best model\n",
    "    return best_model, parameters, val_aucs"
   ]
  },
  {
   "cell_type": "code",
   "execution_count": 51,
   "metadata": {
    "colab": {
     "base_uri": "https://localhost:8080/"
    },
    "id": "izIK8sTXzMS2",
    "outputId": "0e26c493-8e28-4b4e-b6e8-94b8d92ede5b"
   },
   "outputs": [
    {
     "name": "stdout",
     "output_type": "stream",
     "text": [
      "---------------------------------------- \n",
      "Model Parameters:\n",
      "Penalty: l1, C: 0.01 \n",
      "Model AUC: 0.724138\n",
      "---------------------------------------- \n",
      "Model Parameters:\n",
      "Penalty: l1, C: 0.1 \n",
      "Model AUC: 0.870690\n",
      "---------------------------------------- \n",
      "Model Parameters:\n",
      "Penalty: l1, C: 1 \n",
      "Model AUC: 0.922414\n",
      "---------------------------------------- \n",
      "Model Parameters:\n",
      "Penalty: l1, C: 10 \n",
      "Model AUC: 0.913793\n",
      "---------------------------------------- \n",
      "Model Parameters:\n",
      "Penalty: l1, C: 100 \n",
      "Model AUC: 0.913793\n",
      "---------------------------------------- \n",
      "Model Parameters:\n",
      "Penalty: l1, C: 1000 \n",
      "Model AUC: 0.913793\n",
      "---------------------------------------- \n",
      "Model Parameters:\n",
      "Penalty: l2, C: 0.01 \n",
      "Model AUC: 0.732759\n",
      "---------------------------------------- \n",
      "Model Parameters:\n",
      "Penalty: l2, C: 0.1 \n",
      "Model AUC: 0.732759\n",
      "---------------------------------------- \n",
      "Model Parameters:\n",
      "Penalty: l2, C: 1 \n",
      "Model AUC: 0.732759\n",
      "---------------------------------------- \n",
      "Model Parameters:\n",
      "Penalty: l2, C: 10 \n",
      "Model AUC: 0.732759\n",
      "---------------------------------------- \n",
      "Model Parameters:\n",
      "Penalty: l2, C: 100 \n",
      "Model AUC: 0.732759\n",
      "---------------------------------------- \n",
      "Model Parameters:\n",
      "Penalty: l2, C: 1000 \n",
      "Model AUC: 0.732759\n",
      "- - - - - - - - - - - - - - - - - - - -  \n",
      "Best model parameters:  {'penalty': 'l1', 'C': 1}\n",
      "Best model AUC:  0.9224137931034483\n"
     ]
    }
   ],
   "source": [
    "penalty_types=[\"l1\", \"l2\"]\n",
    "C_values=[0.01, 0.1, 1, 10, 100, 1000]\n",
    "\n",
    "final_model, params_list, aucs = tune_logistic_regression(x_train, y_train, x_valid, y_valid, penalty_types, C_values, verbose=True)"
   ]
  },
  {
   "cell_type": "markdown",
   "metadata": {
    "id": "QsDnKV8v2Ami"
   },
   "source": [
    "It is important to note that the performance above is only on the validation set. The reason we measure AUC for the validation set is to see what parameters work best for this situation prior to exposing our model to test data. Now that we have the ideal model and parameters, we can assess the performance of our model on the test data"
   ]
  },
  {
   "cell_type": "code",
   "execution_count": 52,
   "metadata": {
    "colab": {
     "base_uri": "https://localhost:8080/"
    },
    "id": "ag9Y5voLt5wW",
    "outputId": "48a2006f-a079-4a9b-ce10-2554e408284f"
   },
   "outputs": [
    {
     "name": "stdout",
     "output_type": "stream",
     "text": [
      "Model AUC: 0.891667\n"
     ]
    }
   ],
   "source": [
    "acc, auc = evaluate(final_model, test_df, test_outputs)\n",
    "\n",
    "print('Model AUC: {:2f}'.format(auc))"
   ]
  },
  {
   "cell_type": "code",
   "execution_count": 54,
   "metadata": {
    "colab": {
     "base_uri": "https://localhost:8080/",
     "height": 313
    },
    "id": "P5O2y36NFHfU",
    "outputId": "0248497a-f246-4e26-cc11-69eff16fe1d4"
   },
   "outputs": [
    {
     "data": {
      "text/plain": [
       "Text(0.5, 1.0, 'Predicting Fake Instagram Accounts')"
      ]
     },
     "execution_count": 54,
     "metadata": {},
     "output_type": "execute_result"
    },
    {
     "data": {
      "image/png": "[encoded data removed]",
      "text/plain": [
       "<Figure size 432x288 with 2 Axes>"
      ]
     },
     "metadata": {
      "needs_background": "light"
     },
     "output_type": "display_data"
    }
   ],
   "source": [
    "y_pred = final_model.predict(test_df)\n",
    "\n",
    "# Plotting confusion matrix for model outputs\n",
    "labels = [\"real\", \"fake\"]\n",
    "plot_confusion_matrix(final_model, test_df, test_outputs, display_labels=labels, cmap='BuPu')\n",
    "plt.title(\"Predicting Fake Instagram Accounts\")"
   ]
  },
  {
   "cell_type": "markdown",
   "metadata": {
    "id": "GIs9UD-gOvHS"
   },
   "source": [
    "#### Feature Importance for Best Tuned Model"
   ]
  },
  {
   "cell_type": "code",
   "execution_count": 56,
   "metadata": {
    "colab": {
     "base_uri": "https://localhost:8080/",
     "height": 394
    },
    "id": "E2OliuKsL8C-",
    "outputId": "bdf767bd-6642-4565-9053-bdfc3da32ae2"
   },
   "outputs": [
    {
     "data": {
      "text/html": [
       "<div>\n",
       "<style scoped>\n",
       "    .dataframe tbody tr th:only-of-type {\n",
       "        vertical-align: middle;\n",
       "    }\n",
       "\n",
       "    .dataframe tbody tr th {\n",
       "        vertical-align: top;\n",
       "    }\n",
       "\n",
       "    .dataframe thead th {\n",
       "        text-align: right;\n",
       "    }\n",
       "</style>\n",
       "<table border=\"1\" class=\"dataframe\">\n",
       "  <thead>\n",
       "    <tr style=\"text-align: right;\">\n",
       "      <th></th>\n",
       "      <th>Feature</th>\n",
       "      <th>Weight</th>\n",
       "    </tr>\n",
       "  </thead>\n",
       "  <tbody>\n",
       "    <tr>\n",
       "      <th>0</th>\n",
       "      <td>acc_name_ratio</td>\n",
       "      <td>6.32608</td>\n",
       "    </tr>\n",
       "    <tr>\n",
       "      <th>1</th>\n",
       "      <td>profile_pic</td>\n",
       "      <td>-2.86889</td>\n",
       "    </tr>\n",
       "    <tr>\n",
       "      <th>2</th>\n",
       "      <td>URL_flag</td>\n",
       "      <td>-1.71138</td>\n",
       "    </tr>\n",
       "    <tr>\n",
       "      <th>3</th>\n",
       "      <td>name_match</td>\n",
       "      <td>1.2862</td>\n",
       "    </tr>\n",
       "    <tr>\n",
       "      <th>4</th>\n",
       "      <td>fullname_words</td>\n",
       "      <td>-0.24888</td>\n",
       "    </tr>\n",
       "    <tr>\n",
       "      <th>5</th>\n",
       "      <td>private_flag</td>\n",
       "      <td>-0.170155</td>\n",
       "    </tr>\n",
       "    <tr>\n",
       "      <th>6</th>\n",
       "      <td>post_nums</td>\n",
       "      <td>-0.0173395</td>\n",
       "    </tr>\n",
       "    <tr>\n",
       "      <th>7</th>\n",
       "      <td>bio_len</td>\n",
       "      <td>-0.00745825</td>\n",
       "    </tr>\n",
       "    <tr>\n",
       "      <th>8</th>\n",
       "      <td>follower_nums</td>\n",
       "      <td>-0.00207805</td>\n",
       "    </tr>\n",
       "    <tr>\n",
       "      <th>9</th>\n",
       "      <td>follow_nums</td>\n",
       "      <td>0.00100328</td>\n",
       "    </tr>\n",
       "    <tr>\n",
       "      <th>10</th>\n",
       "      <td>fullname_ratio</td>\n",
       "      <td>0</td>\n",
       "    </tr>\n",
       "  </tbody>\n",
       "</table>\n",
       "</div>"
      ],
      "text/plain": [
       "           Feature      Weight\n",
       "0   acc_name_ratio     6.32608\n",
       "1      profile_pic    -2.86889\n",
       "2         URL_flag    -1.71138\n",
       "3       name_match      1.2862\n",
       "4   fullname_words    -0.24888\n",
       "5     private_flag   -0.170155\n",
       "6        post_nums  -0.0173395\n",
       "7          bio_len -0.00745825\n",
       "8    follower_nums -0.00207805\n",
       "9      follow_nums  0.00100328\n",
       "10  fullname_ratio           0"
      ]
     },
     "metadata": {},
     "output_type": "display_data"
    }
   ],
   "source": [
    "# feature weights\n",
    "weights = final_model.coef_[0]\n",
    "\n",
    "# Dataframe storing feature name and it's assigned weight\n",
    "feat_importance2 = pd.DataFrame([train_df.columns, weights]).T\n",
    "# Rename Columns\n",
    "feat_importance2.rename(columns={0:'Feature', 1:'Weight'}, inplace=True)\n",
    "# Sort from highest weight to lowest and display\n",
    "feat_importance2 = feat_importance2.sort_values(by='Weight', ascending=False, key=abs)\n",
    "feat_importance2.reset_index(drop=True, inplace=True)\n",
    "\n",
    "display(feat_importance2)"
   ]
  },
  {
   "cell_type": "markdown",
   "metadata": {
    "id": "FED6xTtoG5s2"
   },
   "source": [
    "### Evaluation\n",
    "\n",
    "While the best tuned model works very well on the validation set, the baseline model performs better overall on the test set. This is interesting because one would expect that models that have been tuned would procure the most accuraate predictions.\n",
    "\n",
    "One possible reason for this is that we do not have an extensive training sample. As the training set consists of just 576 observations, splitting that down into training and validation could result in an underfitting of training data for the models that are tuned. Therefore, these models are not as generalizable. "
   ]
  },
  {
   "cell_type": "markdown",
   "metadata": {
    "id": "Fhrc5zpktNNo"
   },
   "source": [
    "## Possible Extensions to the Project\n",
    "\n",
    "I might try bootstrapping training data to get a larger training sample and make the output more generalizable. I believe that a Bootstrapped Aggeragate could help combat this issue of underfitting and provide a more robust classifier"
   ]
  }
 ],
 "metadata": {
  "colab": {
   "collapsed_sections": [],
   "name": "Fake_Account_Predictor_Using_Logistic_Regression.ipynb",
   "provenance": []
  },
  "kernelspec": {
   "display_name": "Python 3",
   "language": "python",
   "name": "python3"
  },
  "language_info": {
   "codemirror_mode": {
    "name": "ipython",
    "version": 3
   },
   "file_extension": ".py",
   "mimetype": "text/x-python",
   "name": "python",
   "nbconvert_exporter": "python",
   "pygments_lexer": "ipython3",
   "version": "3.7.6"
  }
 },
 "nbformat": 4,
 "nbformat_minor": 1
}
